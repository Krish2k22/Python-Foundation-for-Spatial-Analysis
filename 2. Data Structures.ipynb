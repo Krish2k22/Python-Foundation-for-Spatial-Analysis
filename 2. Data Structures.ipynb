{
 "cells": [
  {
   "cell_type": "markdown",
   "id": "2b3466eb",
   "metadata": {},
   "source": [
    "## Data Structures"
   ]
  },
  {
   "cell_type": "markdown",
   "id": "94bc2494",
   "metadata": {},
   "source": [
    "### Tuples"
   ]
  },
  {
   "cell_type": "markdown",
   "id": "4d0c2b1c",
   "metadata": {},
   "source": [
    "A tuple is a sequence of objects. It can have any number of objects inside. In Python, tuples are written with round brackets ()."
   ]
  },
  {
   "cell_type": "code",
   "execution_count": 1,
   "id": "3517bd26",
   "metadata": {},
   "outputs": [
    {
     "name": "stdout",
     "output_type": "stream",
     "text": [
      "(23.2313, 87.0784)\n"
     ]
    }
   ],
   "source": [
    "latitude = 23.2313\n",
    "longitude = 87.0784\n",
    "coordinates = (latitude, longitude)\n",
    "print(coordinates)"
   ]
  },
  {
   "cell_type": "markdown",
   "id": "c4610c99",
   "metadata": {},
   "source": [
    "We can access each item by its position, i.e.index. In programming, the counting starts from 0. So the index of the first item will be 0, the index of the second item will be 1 and so on. The index has to be put inside square brackets []."
   ]
  },
  {
   "cell_type": "code",
   "execution_count": 2,
   "id": "ba7eef9d",
   "metadata": {},
   "outputs": [
    {
     "name": "stdout",
     "output_type": "stream",
     "text": [
      "87.0784 23.2313\n"
     ]
    }
   ],
   "source": [
    "x = coordinates[1]\n",
    "y = coordinates[0]\n",
    "print(x, y)"
   ]
  },
  {
   "cell_type": "markdown",
   "id": "74ecd345",
   "metadata": {},
   "source": [
    "### Lists"
   ]
  },
  {
   "cell_type": "markdown",
   "id": "3cd061be",
   "metadata": {},
   "source": [
    "A list is similar to a tuple but with a key difference. A tuple, once created, can not be changed, i.e. they are immutable. But lists are mutable. We can add, delete or change items within a list. In Python, lists are written with square brackets []."
   ]
  },
  {
   "cell_type": "code",
   "execution_count": 3,
   "id": "e6cc7987",
   "metadata": {},
   "outputs": [
    {
     "name": "stdout",
     "output_type": "stream",
     "text": [
      "['Mumbai', 'Delhi', 'Chennai', 'Kolkata']\n"
     ]
    }
   ],
   "source": [
    "cities = [\"Mumbai\", \"Delhi\", \"Chennai\", \"Kolkata\"]\n",
    "print(cities)"
   ]
  },
  {
   "cell_type": "markdown",
   "id": "424a79b2",
   "metadata": {},
   "source": [
    "We can access the items from a list using index the same way as tuples."
   ]
  },
  {
   "cell_type": "code",
   "execution_count": 4,
   "id": "72d56b4e",
   "metadata": {},
   "outputs": [
    {
     "name": "stdout",
     "output_type": "stream",
     "text": [
      "Mumbai\n"
     ]
    }
   ],
   "source": [
    "print(cities[0])"
   ]
  },
  {
   "cell_type": "markdown",
   "id": "c289bb62",
   "metadata": {},
   "source": [
    "We can call len() function with any Python object to calculate the size of the object."
   ]
  },
  {
   "cell_type": "code",
   "execution_count": 5,
   "id": "b285155c",
   "metadata": {},
   "outputs": [
    {
     "name": "stdout",
     "output_type": "stream",
     "text": [
      "4\n"
     ]
    }
   ],
   "source": [
    "print(len(cities))"
   ]
  },
  {
   "cell_type": "markdown",
   "id": "907f99b1",
   "metadata": {},
   "source": [
    "We can add items to the list using the append() method."
   ]
  },
  {
   "cell_type": "code",
   "execution_count": 6,
   "id": "9fa321cb",
   "metadata": {},
   "outputs": [
    {
     "name": "stdout",
     "output_type": "stream",
     "text": [
      "['Mumbai', 'Delhi', 'Chennai', 'Kolkata', 'Bangalore']\n"
     ]
    }
   ],
   "source": [
    "cities.append(\"Bangalore\")\n",
    "print(cities)"
   ]
  },
  {
   "cell_type": "markdown",
   "id": "ea6e254e",
   "metadata": {},
   "source": [
    "As lists are mutable, we can see that the size of the list has now changed."
   ]
  },
  {
   "cell_type": "code",
   "execution_count": 7,
   "id": "bad07fa3",
   "metadata": {},
   "outputs": [
    {
     "name": "stdout",
     "output_type": "stream",
     "text": [
      "5\n"
     ]
    }
   ],
   "source": [
    "print(len(cities))"
   ]
  },
  {
   "cell_type": "markdown",
   "id": "688ef0aa",
   "metadata": {},
   "source": [
    "We can use sort() method to sort the items in a list."
   ]
  },
  {
   "cell_type": "code",
   "execution_count": 8,
   "id": "dc73bc4e",
   "metadata": {},
   "outputs": [
    {
     "name": "stdout",
     "output_type": "stream",
     "text": [
      "['Bangalore', 'Chennai', 'Delhi', 'Kolkata', 'Mumbai']\n"
     ]
    }
   ],
   "source": [
    "cities.sort()\n",
    "print(cities)"
   ]
  },
  {
   "cell_type": "markdown",
   "id": "8a387162",
   "metadata": {},
   "source": [
    "The default sorting is in ascending order. If we want to sort the list in a descending order, we can call the function with reverse=True"
   ]
  },
  {
   "cell_type": "code",
   "execution_count": 9,
   "id": "412a7bd8",
   "metadata": {},
   "outputs": [
    {
     "name": "stdout",
     "output_type": "stream",
     "text": [
      "['Mumbai', 'Kolkata', 'Delhi', 'Chennai', 'Bangalore']\n"
     ]
    }
   ],
   "source": [
    "cities.sort(reverse=True)\n",
    "print(cities)"
   ]
  },
  {
   "cell_type": "markdown",
   "id": "31e85e5a",
   "metadata": {},
   "source": [
    "### Sets"
   ]
  },
  {
   "cell_type": "markdown",
   "id": "b1831e1f",
   "metadata": {},
   "source": [
    "Sets are like lists, but with some interesting properties. Sets only contain unique values. It allows set operations such as intersection, union and difference. In practice, the sets are typically created from lists."
   ]
  },
  {
   "cell_type": "code",
   "execution_count": 10,
   "id": "6dfab5b9",
   "metadata": {},
   "outputs": [
    {
     "name": "stdout",
     "output_type": "stream",
     "text": [
      "{'Delhi'}\n"
     ]
    }
   ],
   "source": [
    "capitals_list = [\"Delhi\", \"London\", \"Russia\", \"Canberra\"]\n",
    "capitals_set = set(capitals_list)\n",
    "cities_set = set(cities)\n",
    "\n",
    "capital_cities = capitals_set.intersection(cities_set)\n",
    "print(capital_cities)"
   ]
  },
  {
   "cell_type": "markdown",
   "id": "6441b9cc",
   "metadata": {},
   "source": [
    "Sets are also useful in finding unique values in a list. We can merge two lists using extend() method.  The resulting list will have duplicate values but creating a set from the list removes duplicate values."
   ]
  },
  {
   "cell_type": "code",
   "execution_count": 11,
   "id": "c72c8f1b",
   "metadata": {},
   "outputs": [
    {
     "name": "stdout",
     "output_type": "stream",
     "text": [
      "['Mumbai', 'Kolkata', 'Delhi', 'Chennai', 'Bangalore', 'Delhi', 'London', 'Russia', 'Canberra']\n",
      "{'Canberra', 'Delhi', 'Mumbai', 'Russia', 'Kolkata', 'Chennai', 'Bangalore', 'London'}\n"
     ]
    }
   ],
   "source": [
    "cities.extend(capitals_list)\n",
    "print(cities)\n",
    "print(set(cities))"
   ]
  },
  {
   "cell_type": "markdown",
   "id": "c6e1f626",
   "metadata": {},
   "source": [
    "### Dictionaries"
   ]
  },
  {
   "cell_type": "markdown",
   "id": "e4905148",
   "metadata": {},
   "source": [
    "In Python dictionaries are written with curly brackets {}. Dictionaries have keys and values. With lists, we can access each element by its index. But a dictionary makes it easy to access the element by name. Keys and values are seperated by a colon:."
   ]
  },
  {
   "cell_type": "code",
   "execution_count": 12,
   "id": "d22afcfb",
   "metadata": {
    "scrolled": true
   },
   "outputs": [
    {
     "name": "stdout",
     "output_type": "stream",
     "text": [
      "{'city': 'Bangalore', 'coordinates': (77.5946, 12.9716), 'population': 13000000}\n"
     ]
    }
   ],
   "source": [
    "city_data = {\"city\": \"Bangalore\", \"coordinates\": (77.5946, 12.9716), \"population\": 13000000}\n",
    "print(city_data)"
   ]
  },
  {
   "cell_type": "markdown",
   "id": "837ae8e6",
   "metadata": {},
   "source": [
    "We can access an item of a dictionary by referring to its key name, inside square brackets."
   ]
  },
  {
   "cell_type": "code",
   "execution_count": 13,
   "id": "f5faa129",
   "metadata": {
    "scrolled": true
   },
   "outputs": [
    {
     "name": "stdout",
     "output_type": "stream",
     "text": [
      "13000000\n"
     ]
    }
   ],
   "source": [
    "print(city_data[\"population\"])"
   ]
  },
  {
   "cell_type": "markdown",
   "id": "a594e4c1",
   "metadata": {},
   "source": [
    "## Exercise"
   ]
  },
  {
   "cell_type": "markdown",
   "id": "1546ed14",
   "metadata": {},
   "source": [
    "**How do you access the coordinate values from the dictionary below? Print the latitude and longitude of Bangalore city by extracting it from the dictionary below.**"
   ]
  },
  {
   "cell_type": "markdown",
   "id": "3a7ece89",
   "metadata": {},
   "source": [
    "**The expected output should look like below.**"
   ]
  },
  {
   "cell_type": "markdown",
   "id": "79ec87bc",
   "metadata": {},
   "source": [
    "77.5946 \n",
    "12.9716"
   ]
  },
  {
   "cell_type": "code",
   "execution_count": 14,
   "id": "8a773e31",
   "metadata": {},
   "outputs": [],
   "source": [
    "bangaloreCityData = {\"city\": \"Bangalore\", \"coordinates\": (77.5946, 12.9716), \"population\": 13000000}"
   ]
  },
  {
   "cell_type": "code",
   "execution_count": 15,
   "id": "dc1162ec",
   "metadata": {},
   "outputs": [
    {
     "name": "stdout",
     "output_type": "stream",
     "text": [
      "77.5946 12.9716\n"
     ]
    }
   ],
   "source": [
    "bangalore_coordinates = bangaloreCityData[\"coordinates\"]\n",
    "bangalore_lat = bangalore_coordinates[1]\n",
    "bangalore_lon = bangalore_coordinates[0]\n",
    "print(bangalore_lon, bangalore_lat)"
   ]
  }
 ],
 "metadata": {
  "hide_input": false,
  "kernelspec": {
   "display_name": "Python 3",
   "language": "python",
   "name": "python3"
  },
  "language_info": {
   "codemirror_mode": {
    "name": "ipython",
    "version": 3
   },
   "file_extension": ".py",
   "mimetype": "text/x-python",
   "name": "python",
   "nbconvert_exporter": "python",
   "pygments_lexer": "ipython3",
   "version": "3.6.13"
  }
 },
 "nbformat": 4,
 "nbformat_minor": 5
}
