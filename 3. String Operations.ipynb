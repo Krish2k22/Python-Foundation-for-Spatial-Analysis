{
 "cells": [
  {
   "cell_type": "markdown",
   "id": "d54d2697",
   "metadata": {},
   "source": [
    "## String Operations"
   ]
  },
  {
   "cell_type": "code",
   "execution_count": 1,
   "id": "e720c32d",
   "metadata": {},
   "outputs": [
    {
     "name": "stdout",
     "output_type": "stream",
     "text": [
      "9\n"
     ]
    }
   ],
   "source": [
    "city = \"Bangalore\"\n",
    "print(len(city))"
   ]
  },
  {
   "cell_type": "code",
   "execution_count": 2,
   "id": "2a0f0b4a",
   "metadata": {},
   "outputs": [
    {
     "name": "stdout",
     "output_type": "stream",
     "text": [
      "['Karnataka', 'State']\n"
     ]
    }
   ],
   "source": [
    "state = \"Karnataka State\"\n",
    "print(state.split())"
   ]
  },
  {
   "cell_type": "code",
   "execution_count": 3,
   "id": "97059b4d",
   "metadata": {},
   "outputs": [
    {
     "name": "stdout",
     "output_type": "stream",
     "text": [
      "BANGALORE\n"
     ]
    }
   ],
   "source": [
    "print(city.upper())"
   ]
  },
  {
   "cell_type": "code",
   "execution_count": 4,
   "id": "65627cfa",
   "metadata": {},
   "outputs": [
    {
     "name": "stdout",
     "output_type": "stream",
     "text": [
      "B\n"
     ]
    }
   ],
   "source": [
    "print(city[0])"
   ]
  },
  {
   "cell_type": "code",
   "execution_count": 5,
   "id": "356b5aa8",
   "metadata": {},
   "outputs": [
    {
     "name": "stdout",
     "output_type": "stream",
     "text": [
      "e\n"
     ]
    }
   ],
   "source": [
    "print(city[-1])"
   ]
  },
  {
   "cell_type": "code",
   "execution_count": 6,
   "id": "30fc5b33",
   "metadata": {},
   "outputs": [
    {
     "name": "stdout",
     "output_type": "stream",
     "text": [
      "Banga\n"
     ]
    }
   ],
   "source": [
    "print(city[0:5])"
   ]
  },
  {
   "cell_type": "code",
   "execution_count": 7,
   "id": "91ac3e95",
   "metadata": {},
   "outputs": [
    {
     "name": "stdout",
     "output_type": "stream",
     "text": [
      "alore\n"
     ]
    }
   ],
   "source": [
    "print(city[4:])"
   ]
  },
  {
   "cell_type": "markdown",
   "id": "70c81b9d",
   "metadata": {},
   "source": [
    "### Escaping Characters"
   ]
  },
  {
   "cell_type": "markdown",
   "id": "bafecd0e",
   "metadata": {},
   "source": [
    "Certain characters are special since they are by Python language itself. For example, the quote character' is used to define a string. What should we do if our string contains a quote character?\n",
    "\n",
    "In Python strings, the backslash \\ is a special character, also called the **escape** character. Prefixing any character with a backslash makes it an  ordinary character. (Hint: Prefixing a backslash with a backslash makes it an ordinary charcter too!)\n",
    "\n",
    "It is also used for representing certain whitespace characters, \\n is a newline, \\t is a tab etc.\n",
    "\n",
    "Remove the # from the cell below and run it."
   ]
  },
  {
   "cell_type": "code",
   "execution_count": 8,
   "id": "b8a8ee22",
   "metadata": {},
   "outputs": [],
   "source": [
    "# my_string = 'It's a beautiful day!'"
   ]
  },
  {
   "cell_type": "markdown",
   "id": "78d7f39e",
   "metadata": {},
   "source": [
    "We can fix the error by escaping the single quote within the string."
   ]
  },
  {
   "cell_type": "code",
   "execution_count": 9,
   "id": "93448359",
   "metadata": {},
   "outputs": [
    {
     "name": "stdout",
     "output_type": "stream",
     "text": [
      "It's a beautiful day!\n"
     ]
    }
   ],
   "source": [
    "my_string = 'It\\'s a beautiful day!'\n",
    "print(my_string)"
   ]
  },
  {
   "cell_type": "markdown",
   "id": "39449aad",
   "metadata": {},
   "source": [
    "Alternatively, we can also use double-quotes if our string contains a single quote."
   ]
  },
  {
   "cell_type": "code",
   "execution_count": 10,
   "id": "78d59319",
   "metadata": {},
   "outputs": [
    {
     "name": "stdout",
     "output_type": "stream",
     "text": [
      "It's a beautiful day!\n"
     ]
    }
   ],
   "source": [
    "my_string = \"It's a beautiful day!\"\n",
    "print(my_string)"
   ]
  },
  {
   "cell_type": "markdown",
   "id": "f8960dd2",
   "metadata": {},
   "source": [
    "What if our string contains both single and double quotes?\n",
    "\n",
    "We can use triple-quotes! Enclosing the string in triple quotes ensures both single and double quotes are treated correctly."
   ]
  },
  {
   "cell_type": "code",
   "execution_count": 11,
   "id": "6b750325",
   "metadata": {},
   "outputs": [
    {
     "name": "stdout",
     "output_type": "stream",
     "text": [
      "12° 58' 20.7912\" N, 77° 34' 50.3148\" E\n"
     ]
    }
   ],
   "source": [
    "city_lat =  '''12° 58' 20.7912\" N'''\n",
    "city_lon = '''77° 34' 50.3148\" E'''\n",
    "print(city_lat + \", \" + city_lon)"
   ]
  },
  {
   "cell_type": "markdown",
   "id": "c2ece1a6",
   "metadata": {},
   "source": [
    "Sometimes backslashes pose another problem while dealing with Windows paths"
   ]
  },
  {
   "cell_type": "code",
   "execution_count": 12,
   "id": "dfa8fdac",
   "metadata": {},
   "outputs": [],
   "source": [
    "# path = \"D:\\GIS Project\\Geospatial Data\"\n",
    "# print(path)"
   ]
  },
  {
   "cell_type": "markdown",
   "id": "163a5c6e",
   "metadata": {},
   "source": [
    "Prefixing a string with **r** makes it a raw string. Which doesn't interpret backslash as special character"
   ]
  },
  {
   "cell_type": "code",
   "execution_count": 13,
   "id": "b7ce6104",
   "metadata": {
    "scrolled": true
   },
   "outputs": [
    {
     "name": "stdout",
     "output_type": "stream",
     "text": [
      "D:\\GIS Project\\Geospatial Data\n"
     ]
    }
   ],
   "source": [
    "path = r\"D:\\GIS Project\\Geospatial Data\"\n",
    "print(path)"
   ]
  },
  {
   "cell_type": "markdown",
   "id": "b7219aab",
   "metadata": {},
   "source": [
    "### Printing Strings"
   ]
  },
  {
   "cell_type": "markdown",
   "id": "6152b047",
   "metadata": {},
   "source": [
    "Modern way of creating strings from variables is using the format() method"
   ]
  },
  {
   "cell_type": "code",
   "execution_count": 14,
   "id": "5d67e098",
   "metadata": {},
   "outputs": [
    {
     "name": "stdout",
     "output_type": "stream",
     "text": [
      "The population of Bangalore city is 13000000.\n"
     ]
    }
   ],
   "source": [
    "city = \"Bangalore\"\n",
    "populaton = 13000000\n",
    "output = \"The population of {} city is {}.\".format(city, populaton)\n",
    "print(output)"
   ]
  },
  {
   "cell_type": "markdown",
   "id": "295638c7",
   "metadata": {},
   "source": [
    "We can also use the format method to control the precision of the numbers"
   ]
  },
  {
   "cell_type": "code",
   "execution_count": 15,
   "id": "97db7657",
   "metadata": {},
   "outputs": [
    {
     "name": "stdout",
     "output_type": "stream",
     "text": [
      "12.97, 77.59\n"
     ]
    }
   ],
   "source": [
    "city_lat = 12.9716\n",
    "city_lon = 77.5946\n",
    "\n",
    "city_coordinates = \"{:.2f}, {:.2f}\".format(city_lat, city_lon)\n",
    "print(city_coordinates)"
   ]
  },
  {
   "cell_type": "markdown",
   "id": "572d27dd",
   "metadata": {},
   "source": [
    "## Exercise"
   ]
  },
  {
   "cell_type": "markdown",
   "id": "57c5136b",
   "metadata": {},
   "source": [
    "**Use the string slicing to extract and print the degrees, minutes and second parts of the string below. The outpt should be as follows:**"
   ]
  },
  {
   "cell_type": "markdown",
   "id": "6a17ae00",
   "metadata": {},
   "source": [
    "12°\n",
    "<br>\n",
    "58'\n",
    "<br>\n",
    "20.7912\""
   ]
  },
  {
   "cell_type": "code",
   "execution_count": 16,
   "id": "16979b82",
   "metadata": {},
   "outputs": [
    {
     "name": "stdout",
     "output_type": "stream",
     "text": [
      "12°\n",
      "58'\n",
      "20.7912\"\n"
     ]
    }
   ],
   "source": [
    "latitude = '''12° 58' 20.7912\"'''\n",
    "lat_split = latitude.split()\n",
    "print(lat_split[0])\n",
    "print(lat_split[1])\n",
    "print(lat_split[2])"
   ]
  }
 ],
 "metadata": {
  "hide_input": false,
  "kernelspec": {
   "display_name": "Python 3",
   "language": "python",
   "name": "python3"
  },
  "language_info": {
   "codemirror_mode": {
    "name": "ipython",
    "version": 3
   },
   "file_extension": ".py",
   "mimetype": "text/x-python",
   "name": "python",
   "nbconvert_exporter": "python",
   "pygments_lexer": "ipython3",
   "version": "3.6.13"
  }
 },
 "nbformat": 4,
 "nbformat_minor": 5
}
