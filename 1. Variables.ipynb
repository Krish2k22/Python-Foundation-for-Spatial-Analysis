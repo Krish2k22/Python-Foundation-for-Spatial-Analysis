{
 "cells": [
  {
   "cell_type": "markdown",
   "id": "ba53059b",
   "metadata": {},
   "source": [
    "## Hello World"
   ]
  },
  {
   "cell_type": "markdown",
   "id": "86624820",
   "metadata": {},
   "source": [
    "While learning a new programming language, it is customary to first learn how to print \"Hello World!\". It is a very useful first step to know how to send input to the program and where to see the output. In Python, we can use built-in Print() function to print the greeting \"Hello World!\"."
   ]
  },
  {
   "cell_type": "code",
   "execution_count": 10,
   "id": "9ccf457c",
   "metadata": {},
   "outputs": [
    {
     "name": "stdout",
     "output_type": "stream",
     "text": [
      "Hello World!\n"
     ]
    }
   ],
   "source": [
    "print(\"Hello World!\")"
   ]
  },
  {
   "cell_type": "markdown",
   "id": "bd66ec57",
   "metadata": {},
   "source": [
    "## Variables\n",
    "### Strings"
   ]
  },
  {
   "cell_type": "markdown",
   "id": "2e80c211",
   "metadata": {},
   "source": [
    "A string is a sequence of letters, numbers and punctuation marks. It is most commonly known as **text**.\n",
    "In Python, we can create a string by typing letters between single or double quotation marks. "
   ]
  },
  {
   "cell_type": "code",
   "execution_count": 11,
   "id": "5e6459dc",
   "metadata": {},
   "outputs": [],
   "source": [
    "city = \"Kolkata\"\n",
    "state = \"West Bengal\"\n",
    "country = \"India\""
   ]
  },
  {
   "cell_type": "code",
   "execution_count": 12,
   "id": "5c587b81",
   "metadata": {},
   "outputs": [
    {
     "name": "stdout",
     "output_type": "stream",
     "text": [
      "Kolkata\n",
      "Kolkata West Bengal\n",
      "Kolkata, West Bengal, India\n"
     ]
    }
   ],
   "source": [
    "print(city)\n",
    "print(city, state)\n",
    "print(city + \", \" + state + \", \" + country)"
   ]
  },
  {
   "cell_type": "markdown",
   "id": "156870b7",
   "metadata": {},
   "source": [
    "### Numbers"
   ]
  },
  {
   "cell_type": "markdown",
   "id": "68a3b53f",
   "metadata": {},
   "source": [
    "Python can handle several types of numbers, but the two most common are:\n",
    " - **int:** It represents integer values like 50, 100, 121 etc.\n",
    " - **float:** It represents numbers that have a fraction part, like 0.5, 6.54, 2.336 etc."
   ]
  },
  {
   "cell_type": "code",
   "execution_count": 13,
   "id": "4cb6f777",
   "metadata": {},
   "outputs": [],
   "source": [
    "city_population = 15000000\n",
    "city_lat = 22.57\n",
    "city_lon = 88.36"
   ]
  },
  {
   "cell_type": "code",
   "execution_count": 14,
   "id": "f54a2f75",
   "metadata": {},
   "outputs": [
    {
     "name": "stdout",
     "output_type": "stream",
     "text": [
      "<class 'int'>\n",
      "<class 'float'>\n",
      "<class 'float'>\n"
     ]
    }
   ],
   "source": [
    "print(type(city_population))\n",
    "print(type(city_lat))\n",
    "print(type(city_lon))"
   ]
  },
  {
   "cell_type": "code",
   "execution_count": 15,
   "id": "57ec74dd",
   "metadata": {},
   "outputs": [
    {
     "name": "stdout",
     "output_type": "stream",
     "text": [
      "9.144\n"
     ]
    }
   ],
   "source": [
    "city_elevation_ft = 30\n",
    "city_elevation_mts = city_elevation_ft * 0.3048\n",
    "print(city_elevation_mts)"
   ]
  },
  {
   "cell_type": "code",
   "execution_count": 16,
   "id": "89ffdf0a",
   "metadata": {},
   "outputs": [
    {
     "name": "stdout",
     "output_type": "stream",
     "text": [
      "72815\n"
     ]
    }
   ],
   "source": [
    "city_area_sqkm = 206\n",
    "city_pop_density = city_population // city_area_sqkm\n",
    "print(city_pop_density)"
   ]
  },
  {
   "cell_type": "markdown",
   "id": "2c0a9ecf",
   "metadata": {},
   "source": [
    "## Exercise\n",
    "**We hava a variable named distance_km below with the value 4135 -indicating the straight-line distance between San Francisco and New York in Kilometers. Create another variable called distance_mi and store the distance value in miles.**"
   ]
  },
  {
   "cell_type": "code",
   "execution_count": 17,
   "id": "272c0f72",
   "metadata": {},
   "outputs": [],
   "source": [
    "distance_km = 4135"
   ]
  },
  {
   "cell_type": "code",
   "execution_count": 18,
   "id": "3fb7efa3",
   "metadata": {},
   "outputs": [
    {
     "name": "stdout",
     "output_type": "stream",
     "text": [
      "2569.37\n"
     ]
    }
   ],
   "source": [
    "distance_mi = distance_km * 0.621371\n",
    "print(round(distance_mi, 2))"
   ]
  }
 ],
 "metadata": {
  "hide_input": false,
  "kernelspec": {
   "display_name": "Python 3",
   "language": "python",
   "name": "python3"
  },
  "language_info": {
   "codemirror_mode": {
    "name": "ipython",
    "version": 3
   },
   "file_extension": ".py",
   "mimetype": "text/x-python",
   "name": "python",
   "nbconvert_exporter": "python",
   "pygments_lexer": "ipython3",
   "version": "3.6.13"
  }
 },
 "nbformat": 4,
 "nbformat_minor": 5
}
