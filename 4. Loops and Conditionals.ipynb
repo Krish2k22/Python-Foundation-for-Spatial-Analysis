{
 "cells": [
  {
   "cell_type": "markdown",
   "id": "32586c3b",
   "metadata": {},
   "source": [
    "## Loops and Conditionals"
   ]
  },
  {
   "cell_type": "markdown",
   "id": "69385040",
   "metadata": {},
   "source": [
    "### For Loops"
   ]
  },
  {
   "cell_type": "markdown",
   "id": "a5f24345",
   "metadata": {},
   "source": [
    "A for loop is used for iterating over a sequence. The sequence can be a list, a tuple, a dictionary, a set, or a string."
   ]
  },
  {
   "cell_type": "code",
   "execution_count": 4,
   "id": "74c5c17e",
   "metadata": {},
   "outputs": [
    {
     "name": "stdout",
     "output_type": "stream",
     "text": [
      "Mumbai\n",
      "Delhi\n",
      "Chennai\n",
      "Kolkata\n"
     ]
    }
   ],
   "source": [
    "cities = [\"Mumbai\", \"Delhi\", \"Chennai\", \"Kolkata\"]\n",
    "\n",
    "for city in cities:\n",
    "    print(city)"
   ]
  },
  {
   "cell_type": "markdown",
   "id": "2aba7235",
   "metadata": {},
   "source": [
    "To iterate over a dictionary, we have to call the items() method on it which returns a tuple of key and value for each item. "
   ]
  },
  {
   "cell_type": "code",
   "execution_count": 5,
   "id": "3fa912a1",
   "metadata": {},
   "outputs": [
    {
     "name": "stdout",
     "output_type": "stream",
     "text": [
      "city Bangalore\n",
      "coordinates (77.5946, 12.9716)\n",
      "population 13000000\n"
     ]
    }
   ],
   "source": [
    "city_data = {\"city\": \"Bangalore\", \"coordinates\": (77.5946, 12.9716), \"population\": 13000000}\n",
    "\n",
    "for key,value in city_data.items():\n",
    "    print(key, value)"
   ]
  },
  {
   "cell_type": "markdown",
   "id": "8f289d11",
   "metadata": {},
   "source": [
    "The built-in range() function allows us to create sequence of numbers that we can iterate over"
   ]
  },
  {
   "cell_type": "code",
   "execution_count": 6,
   "id": "be943773",
   "metadata": {
    "scrolled": true
   },
   "outputs": [
    {
     "name": "stdout",
     "output_type": "stream",
     "text": [
      "0\n",
      "1\n",
      "2\n",
      "3\n",
      "4\n"
     ]
    }
   ],
   "source": [
    "for i in range(5):\n",
    "    print(i)"
   ]
  },
  {
   "cell_type": "markdown",
   "id": "94d198d7",
   "metadata": {},
   "source": [
    "We can use the range function with a start and an end number. We can also add steps in the sequence."
   ]
  },
  {
   "cell_type": "code",
   "execution_count": 7,
   "id": "dbb66621",
   "metadata": {
    "scrolled": true
   },
   "outputs": [
    {
     "name": "stdout",
     "output_type": "stream",
     "text": [
      "1\n",
      "3\n",
      "5\n",
      "7\n",
      "9\n"
     ]
    }
   ],
   "source": [
    "for i in range(1, 10, 2):\n",
    "    print(i)"
   ]
  },
  {
   "cell_type": "markdown",
   "id": "a54283ec",
   "metadata": {},
   "source": [
    "### Conditionals"
   ]
  },
  {
   "cell_type": "markdown",
   "id": "8d7f98b9",
   "metadata": {},
   "source": [
    "Python supports logical conditions such as equals, not equals, greater than etc. These conditions can be used in several ways, most commonly in if statements and loops.\n",
    "\n",
    "An if statement is written by using the if keyword.\n",
    "\n",
    "Note: A very common error that programmers make is to use '=' to evaluate equals to condition. The '=' in Python means assignment, not equals to. Always ensure that you use the '==' for an equals to condition. "
   ]
  },
  {
   "cell_type": "code",
   "execution_count": 8,
   "id": "9414d1d0",
   "metadata": {},
   "outputs": [
    {
     "name": "stdout",
     "output_type": "stream",
     "text": [
      "Kolkata\n"
     ]
    }
   ],
   "source": [
    "for city in cities:\n",
    "    if city == \"Kolkata\":\n",
    "        print(city)"
   ]
  },
  {
   "cell_type": "markdown",
   "id": "c95aba43",
   "metadata": {},
   "source": [
    "We can use 'else' keyword along with 'if' to match elements that do not meet the condition."
   ]
  },
  {
   "cell_type": "code",
   "execution_count": 9,
   "id": "8de254ce",
   "metadata": {},
   "outputs": [
    {
     "name": "stdout",
     "output_type": "stream",
     "text": [
      "This is not Kolkata\n",
      "This is not Kolkata\n",
      "This is not Kolkata\n",
      "Kolkata\n"
     ]
    }
   ],
   "source": [
    "for city in cities:\n",
    "    if city == \"Kolkata\":\n",
    "        print(city)\n",
    "    else:\n",
    "        print(\"This is not Kolkata\")"
   ]
  },
  {
   "cell_type": "markdown",
   "id": "50be4a24",
   "metadata": {},
   "source": [
    "Python relies on indentation (whitespace at the beginning of a line) to define scope in the for loop and if statements. So we have to make sure that our code is properly indented.\n",
    "\n",
    "We can evaluate a series of conditions using 'elif' keyword.\n",
    "\n",
    "Multiple criteria can be combined using the 'and' and 'or' keywords."
   ]
  },
  {
   "cell_type": "code",
   "execution_count": 10,
   "id": "0c013499",
   "metadata": {},
   "outputs": [
    {
     "name": "stdout",
     "output_type": "stream",
     "text": [
      "Mumbai is a mega city\n",
      "Delhi is a mega city\n",
      "Chennai is a big city\n",
      "Kolkata is a big city\n"
     ]
    }
   ],
   "source": [
    "cities_population = {\n",
    "    \"Mumbai\": 12442373,\n",
    "    \"Delhi\": 11034555,\n",
    "    \"Chennai\": 4646732,\n",
    "    \"Kolkata\": 4496694\n",
    "}\n",
    "\n",
    "for city, population in cities_population.items():\n",
    "    if population < 1000000:\n",
    "        print(\"{} is a small city\".format(city))\n",
    "    elif population > 1000000 and population < 5000000:\n",
    "        print(\"{} is a big city\".format(city))\n",
    "    else:\n",
    "        print(\"{} is a mega city\".format(city))"
   ]
  },
  {
   "cell_type": "markdown",
   "id": "1007daf1",
   "metadata": {},
   "source": [
    "### Control Statements"
   ]
  },
  {
   "cell_type": "markdown",
   "id": "2442ece5",
   "metadata": {},
   "source": [
    "A for-loop iterates over each item in the sequence. Sometimes it is desirable to stop the execution, or skip certain parts of the for-loops. Python has special statements, break, continue and pass.\n",
    "\n",
    "A break statement will stop the loop and exit out of it."
   ]
  },
  {
   "cell_type": "code",
   "execution_count": 11,
   "id": "06b2c89d",
   "metadata": {},
   "outputs": [
    {
     "name": "stdout",
     "output_type": "stream",
     "text": [
      "I found Chennai\n"
     ]
    }
   ],
   "source": [
    "for city in cities:\n",
    "    if city == \"Chennai\":\n",
    "        print(\"I found Chennai\")\n",
    "        break"
   ]
  },
  {
   "cell_type": "markdown",
   "id": "f630639d",
   "metadata": {},
   "source": [
    "A continue statement will skip the remaining part of the loop and go to the next iteration."
   ]
  },
  {
   "cell_type": "code",
   "execution_count": 12,
   "id": "fa1794cc",
   "metadata": {},
   "outputs": [
    {
     "name": "stdout",
     "output_type": "stream",
     "text": [
      "Mumbai\n",
      "Delhi\n",
      "Kolkata\n"
     ]
    }
   ],
   "source": [
    "for city in cities:\n",
    "    if city == \"Chennai\":\n",
    "        continue\n",
    "    print(city)"
   ]
  },
  {
   "cell_type": "markdown",
   "id": "9f5723d6",
   "metadata": {},
   "source": [
    "A pass statement doesn't do anything. It is useful when some code is required to complete the syntax, but we do not want any code to execute. It is typically used as a placeholder when a function is not complete. "
   ]
  },
  {
   "cell_type": "code",
   "execution_count": 13,
   "id": "5c10add2",
   "metadata": {},
   "outputs": [
    {
     "name": "stdout",
     "output_type": "stream",
     "text": [
      "Mumbai\n",
      "Delhi\n",
      "Kolkata\n"
     ]
    }
   ],
   "source": [
    "for city in cities:\n",
    "    if city == \"Chennai\":\n",
    "        pass\n",
    "    else:\n",
    "        print(city)"
   ]
  },
  {
   "cell_type": "markdown",
   "id": "3dcf5886",
   "metadata": {},
   "source": [
    "## Exercise"
   ]
  },
  {
   "cell_type": "markdown",
   "id": "981c054d",
   "metadata": {},
   "source": [
    "**The FizzBuzz Challenge**\n",
    "\n",
    "Write a program that prints the numbers from 1 to 100 and for multiples of 3 print **'Fizz'** instead of the number and for multiples of 5 print **'Buzz'**. If it is divisible by both, print **'FizzBuzz'**.\n",
    "\n",
    "So the output should be something like below\n",
    "\n",
    "1, 2, Fizz, 4, Buzz, Fizz, 7, 8, Fizz, Buzz, 11, Fizz, 13, 14, FizzBuzz, ...\n",
    "\n",
    "Breaking down the problem further, we need to create for-loop with following conditions\n",
    " - If the number is a multiple of both 3 and 5 (i.e. 15), print FizzBuzz.\n",
    " - If the number is multiple of 3, print Fizz.\n",
    " - If the number is multiple of 5, print Buzz.\n",
    " - Otherwise print the number"
   ]
  },
  {
   "cell_type": "code",
   "execution_count": 14,
   "id": "437e1cc4",
   "metadata": {},
   "outputs": [
    {
     "name": "stdout",
     "output_type": "stream",
     "text": [
      "1\n",
      "2\n",
      "Fizz\n",
      "4\n",
      "Buzz\n",
      "Fizz\n",
      "7\n",
      "8\n",
      "Fizz\n",
      "Buzz\n",
      "11\n",
      "Fizz\n",
      "13\n",
      "14\n",
      "FizzBuzz\n",
      "16\n",
      "17\n",
      "Fizz\n",
      "19\n",
      "Buzz\n",
      "Fizz\n",
      "22\n",
      "23\n",
      "Fizz\n",
      "Buzz\n",
      "26\n",
      "Fizz\n",
      "28\n",
      "29\n",
      "FizzBuzz\n",
      "31\n",
      "32\n",
      "Fizz\n",
      "34\n",
      "Buzz\n",
      "Fizz\n",
      "37\n",
      "38\n",
      "Fizz\n",
      "Buzz\n",
      "41\n",
      "Fizz\n",
      "43\n",
      "44\n",
      "FizzBuzz\n",
      "46\n",
      "47\n",
      "Fizz\n",
      "49\n",
      "Buzz\n",
      "Fizz\n",
      "52\n",
      "53\n",
      "Fizz\n",
      "Buzz\n",
      "56\n",
      "Fizz\n",
      "58\n",
      "59\n",
      "FizzBuzz\n",
      "61\n",
      "62\n",
      "Fizz\n",
      "64\n",
      "Buzz\n",
      "Fizz\n",
      "67\n",
      "68\n",
      "Fizz\n",
      "Buzz\n",
      "71\n",
      "Fizz\n",
      "73\n",
      "74\n",
      "FizzBuzz\n",
      "76\n",
      "77\n",
      "Fizz\n",
      "79\n",
      "Buzz\n",
      "Fizz\n",
      "82\n",
      "83\n",
      "Fizz\n",
      "Buzz\n",
      "86\n",
      "Fizz\n",
      "88\n",
      "89\n",
      "FizzBuzz\n",
      "91\n",
      "92\n",
      "Fizz\n",
      "94\n",
      "Buzz\n",
      "Fizz\n",
      "97\n",
      "98\n",
      "Fizz\n"
     ]
    }
   ],
   "source": [
    "for i in range(1, 100):\n",
    "    if i%3 == 0 and i%5 == 0:\n",
    "        print(\"FizzBuzz\")\n",
    "    elif i%3 == 0:\n",
    "        print(\"Fizz\")\n",
    "    elif i%5 == 0:\n",
    "        print(\"Buzz\")\n",
    "    else:\n",
    "        print(i)"
   ]
  }
 ],
 "metadata": {
  "hide_input": false,
  "kernelspec": {
   "display_name": "Python 3",
   "language": "python",
   "name": "python3"
  },
  "language_info": {
   "codemirror_mode": {
    "name": "ipython",
    "version": 3
   },
   "file_extension": ".py",
   "mimetype": "text/x-python",
   "name": "python",
   "nbconvert_exporter": "python",
   "pygments_lexer": "ipython3",
   "version": "3.6.13"
  }
 },
 "nbformat": 4,
 "nbformat_minor": 5
}
